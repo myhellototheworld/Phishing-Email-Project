{
 "cells": [
  {
   "cell_type": "code",
   "execution_count": 33,
   "id": "5f1cebad",
   "metadata": {},
   "outputs": [
    {
     "name": "stderr",
     "output_type": "stream",
     "text": [
      "[nltk_data] Downloading package stopwords to\n",
      "[nltk_data]     C:\\Users\\user\\AppData\\Roaming\\nltk_data...\n",
      "[nltk_data]   Package stopwords is already up-to-date!\n",
      "[nltk_data] Downloading package punkt to\n",
      "[nltk_data]     C:\\Users\\user\\AppData\\Roaming\\nltk_data...\n",
      "[nltk_data]   Package punkt is already up-to-date!\n"
     ]
    },
    {
     "name": "stdout",
     "output_type": "stream",
     "text": [
      "Path to dataset files: C:\\Users\\user\\.cache\\kagglehub\\datasets\\wcukierski\\enron-email-dataset\\versions\\2\n"
     ]
    }
   ],
   "source": [
    "# Importing necessary libraries\n",
    "import numpy as np        # For numerical operations\n",
    "import pandas as pd       # For data manipulation and analysis\n",
    "import matplotlib.pyplot as plt  # For data visualization\n",
    "%matplotlib inline\n",
    "\n",
    "# Importing WordCloud for text visualization\n",
    "from wordcloud import WordCloud\n",
    "\n",
    "# Importing NLTK for natural language processing\n",
    "import nltk\n",
    "from nltk.corpus import stopwords    # For stopwords\n",
    "\n",
    "\n",
    "# Downloading NLTK data\n",
    "nltk.download('stopwords')   # Downloading stopwords data\n",
    "nltk.download('punkt')       # Downloading tokenizer data\n",
    "\n",
    "# Importing kaggle api to get the data set\n",
    "import kagglehub\n",
    "\n",
    "# Download latest version\n",
    "path = kagglehub.dataset_download(\"wcukierski/enron-email-dataset\")\n",
    "\n",
    "print(\"Path to dataset files:\", path)"
   ]
  },
  {
   "cell_type": "code",
   "execution_count": 35,
   "id": "bba6c044",
   "metadata": {},
   "outputs": [
    {
     "name": "stdout",
     "output_type": "stream",
     "text": [
      "C:\\Users\\user\\.cache\\kagglehub\\datasets\\wcukierski\\enron-email-dataset\\versions\\2\n"
     ]
    },
    {
     "data": {
      "text/html": [
       "<style type=\"text/css\">\n",
       "#T_d265a th {\n",
       "  color: black;\n",
       "  background-color: #C7EB13;\n",
       "}\n",
       "</style>\n",
       "<table id=\"T_d265a\">\n",
       "  <thead>\n",
       "    <tr>\n",
       "      <th class=\"blank level0\" >&nbsp;</th>\n",
       "      <th id=\"T_d265a_level0_col0\" class=\"col_heading level0 col0\" >file</th>\n",
       "      <th id=\"T_d265a_level0_col1\" class=\"col_heading level0 col1\" >message</th>\n",
       "    </tr>\n",
       "  </thead>\n",
       "  <tbody>\n",
       "    <tr>\n",
       "      <th id=\"T_d265a_level0_row0\" class=\"row_heading level0 row0\" >0</th>\n",
       "      <td id=\"T_d265a_row0_col0\" class=\"data row0 col0\" >allen-p/_sent_mail/1.</td>\n",
       "      <td id=\"T_d265a_row0_col1\" class=\"data row0 col1\" >Message-ID: <18782981.1075855378110.JavaMail.evans@thyme>\n",
       "Date: Mon, 14 May 2001 16:39:00 -0700 (PDT)\n",
       "From: phillip.allen@enron.com\n",
       "To: tim.belden@enron.com\n",
       "Subject: \n",
       "Mime-Version: 1.0\n",
       "Content-Type: text/plain; charset=us-ascii\n",
       "Content-Transfer-Encoding: 7bit\n",
       "X-From: Phillip K Allen\n",
       "X-To: Tim Belden <Tim Belden/Enron@EnronXGate>\n",
       "X-cc: \n",
       "X-bcc: \n",
       "X-Folder: \\Phillip_Allen_Jan2002_1\\Allen, Phillip K.\\'Sent Mail\n",
       "X-Origin: Allen-P\n",
       "X-FileName: pallen (Non-Privileged).pst\n",
       "\n",
       "Here is our forecast\n",
       "\n",
       " </td>\n",
       "    </tr>\n",
       "    <tr>\n",
       "      <th id=\"T_d265a_level0_row1\" class=\"row_heading level0 row1\" >1</th>\n",
       "      <td id=\"T_d265a_row1_col0\" class=\"data row1 col0\" >allen-p/_sent_mail/10.</td>\n",
       "      <td id=\"T_d265a_row1_col1\" class=\"data row1 col1\" >Message-ID: <15464986.1075855378456.JavaMail.evans@thyme>\n",
       "Date: Fri, 4 May 2001 13:51:00 -0700 (PDT)\n",
       "From: phillip.allen@enron.com\n",
       "To: john.lavorato@enron.com\n",
       "Subject: Re:\n",
       "Mime-Version: 1.0\n",
       "Content-Type: text/plain; charset=us-ascii\n",
       "Content-Transfer-Encoding: 7bit\n",
       "X-From: Phillip K Allen\n",
       "X-To: John J Lavorato <John J Lavorato/ENRON@enronXgate@ENRON>\n",
       "X-cc: \n",
       "X-bcc: \n",
       "X-Folder: \\Phillip_Allen_Jan2002_1\\Allen, Phillip K.\\'Sent Mail\n",
       "X-Origin: Allen-P\n",
       "X-FileName: pallen (Non-Privileged).pst\n",
       "\n",
       "Traveling to have a business meeting takes the fun out of the trip.  Especially if you have to prepare a presentation.  I would suggest holding the business plan meetings here then take a trip without any formal business meetings.  I would even try and get some honest opinions on whether a trip is even desired or necessary.\n",
       "\n",
       "As far as the business meetings, I think it would be more productive to try and stimulate discussions across the different groups about what is working and what is not.  Too often the presenter speaks and the others are quiet just waiting for their turn.   The meetings might be better if held in a round table discussion format.  \n",
       "\n",
       "My suggestion for where to go is Austin.  Play golf and rent a ski boat and jet ski's.  Flying somewhere takes too much time.\n",
       "</td>\n",
       "    </tr>\n",
       "    <tr>\n",
       "      <th id=\"T_d265a_level0_row2\" class=\"row_heading level0 row2\" >2</th>\n",
       "      <td id=\"T_d265a_row2_col0\" class=\"data row2 col0\" >allen-p/_sent_mail/100.</td>\n",
       "      <td id=\"T_d265a_row2_col1\" class=\"data row2 col1\" >Message-ID: <24216240.1075855687451.JavaMail.evans@thyme>\n",
       "Date: Wed, 18 Oct 2000 03:00:00 -0700 (PDT)\n",
       "From: phillip.allen@enron.com\n",
       "To: leah.arsdall@enron.com\n",
       "Subject: Re: test\n",
       "Mime-Version: 1.0\n",
       "Content-Type: text/plain; charset=us-ascii\n",
       "Content-Transfer-Encoding: 7bit\n",
       "X-From: Phillip K Allen\n",
       "X-To: Leah Van Arsdall\n",
       "X-cc: \n",
       "X-bcc: \n",
       "X-Folder: \\Phillip_Allen_Dec2000\\Notes Folders\\'sent mail\n",
       "X-Origin: Allen-P\n",
       "X-FileName: pallen.nsf\n",
       "\n",
       "test successful.  way to go!!!</td>\n",
       "    </tr>\n",
       "    <tr>\n",
       "      <th id=\"T_d265a_level0_row3\" class=\"row_heading level0 row3\" >3</th>\n",
       "      <td id=\"T_d265a_row3_col0\" class=\"data row3 col0\" >allen-p/_sent_mail/1000.</td>\n",
       "      <td id=\"T_d265a_row3_col1\" class=\"data row3 col1\" >Message-ID: <13505866.1075863688222.JavaMail.evans@thyme>\n",
       "Date: Mon, 23 Oct 2000 06:13:00 -0700 (PDT)\n",
       "From: phillip.allen@enron.com\n",
       "To: randall.gay@enron.com\n",
       "Subject: \n",
       "Mime-Version: 1.0\n",
       "Content-Type: text/plain; charset=us-ascii\n",
       "Content-Transfer-Encoding: 7bit\n",
       "X-From: Phillip K Allen\n",
       "X-To: Randall L Gay\n",
       "X-cc: \n",
       "X-bcc: \n",
       "X-Folder: \\Phillip_Allen_Dec2000\\Notes Folders\\'sent mail\n",
       "X-Origin: Allen-P\n",
       "X-FileName: pallen.nsf\n",
       "\n",
       "Randy,\n",
       "\n",
       " Can you send me a schedule of the salary and level of everyone in the \n",
       "scheduling group.  Plus your thoughts on any changes that need to be made.  \n",
       "(Patti S for example)\n",
       "\n",
       "Phillip</td>\n",
       "    </tr>\n",
       "    <tr>\n",
       "      <th id=\"T_d265a_level0_row4\" class=\"row_heading level0 row4\" >4</th>\n",
       "      <td id=\"T_d265a_row4_col0\" class=\"data row4 col0\" >allen-p/_sent_mail/1001.</td>\n",
       "      <td id=\"T_d265a_row4_col1\" class=\"data row4 col1\" >Message-ID: <30922949.1075863688243.JavaMail.evans@thyme>\n",
       "Date: Thu, 31 Aug 2000 05:07:00 -0700 (PDT)\n",
       "From: phillip.allen@enron.com\n",
       "To: greg.piper@enron.com\n",
       "Subject: Re: Hello\n",
       "Mime-Version: 1.0\n",
       "Content-Type: text/plain; charset=us-ascii\n",
       "Content-Transfer-Encoding: 7bit\n",
       "X-From: Phillip K Allen\n",
       "X-To: Greg Piper\n",
       "X-cc: \n",
       "X-bcc: \n",
       "X-Folder: \\Phillip_Allen_Dec2000\\Notes Folders\\'sent mail\n",
       "X-Origin: Allen-P\n",
       "X-FileName: pallen.nsf\n",
       "\n",
       "Let's shoot for Tuesday at 11:45.  </td>\n",
       "    </tr>\n",
       "  </tbody>\n",
       "</table>\n"
      ],
      "text/plain": [
       "<pandas.io.formats.style.Styler at 0x1bbeeec7400>"
      ]
     },
     "execution_count": 35,
     "metadata": {},
     "output_type": "execute_result"
    }
   ],
   "source": [
    "print(path)\n",
    "\n",
    "df = pd.read_csv(\"C:\\\\Users\\\\user\\\\.cache\\\\kagglehub\\\\datasets\\\\wcukierski\\\\enron-email-dataset\\\\versions\\\\2\\\\emails.csv\", encoding='latin-1')\n",
    "\n",
    "\n",
    "\n",
    "styled_df = df.head()\n",
    "styled_df = styled_df.style.set_table_styles([\n",
    "    {\"selector\": \"th\", \"props\": [(\"color\", 'black'), (\"background-color\", \"#C7EB13\")]}\n",
    "])\n",
    "\n",
    "styled_df"
   ]
  },
  {
   "cell_type": "code",
   "execution_count": 27,
   "id": "1d340964",
   "metadata": {},
   "outputs": [
    {
     "name": "stdout",
     "output_type": "stream",
     "text": [
      "<class 'pandas.core.frame.DataFrame'>\n",
      "RangeIndex: 517401 entries, 0 to 517400\n",
      "Data columns (total 2 columns):\n",
      " #   Column   Non-Null Count   Dtype \n",
      "---  ------   --------------   ----- \n",
      " 0   file     517401 non-null  object\n",
      " 1   message  517401 non-null  object\n",
      "dtypes: object(2)\n",
      "memory usage: 7.9+ MB\n"
     ]
    }
   ],
   "source": [
    "df.info()"
   ]
  },
  {
   "cell_type": "markdown",
   "id": "83ae32f8",
   "metadata": {},
   "source": [
    "1. Cleaning up the data "
   ]
  },
  {
   "cell_type": "code",
   "execution_count": 40,
   "id": "e90a366c",
   "metadata": {},
   "outputs": [
    {
     "name": "stdout",
     "output_type": "stream",
     "text": [
      "Number of null values: file       0\n",
      "message    0\n",
      "dtype: int64\n",
      "Number of duplicate rows: 0\n"
     ]
    },
    {
     "data": {
      "text/plain": [
       "(517401, 2)"
      ]
     },
     "execution_count": 40,
     "metadata": {},
     "output_type": "execute_result"
    }
   ],
   "source": [
    "NUM_OF_DUPLICATES = df.duplicated().sum()\n",
    "NUM_OF_NULLS = df.isnull().sum()\n",
    "\n",
    "print(f\"Number of null values: {NUM_OF_NULLS}\")\n",
    "print(f\"Number of duplicate rows: {NUM_OF_DUPLICATES}\")\n",
    "\n",
    "df = df.drop_duplicates(keep = 'first')\n",
    "\n",
    "df.shape\n",
    "\n"
   ]
  },
  {
   "cell_type": "code",
   "execution_count": 43,
   "id": "e7bc9fec",
   "metadata": {},
   "outputs": [],
   "source": [
    "import multiprocessing # this is to speed up the process of applying functions to the dataframe\n",
    "import seaborn as sns # for more advanced visualizations\n",
    "import email # to parse email content\n",
    "import matplotlib.pyplot as plt # for visualizations"
   ]
  },
  {
   "cell_type": "code",
   "execution_count": 45,
   "id": "2e12d73f",
   "metadata": {},
   "outputs": [
    {
     "name": "stdout",
     "output_type": "stream",
     "text": [
      "Message-ID: <30965995.1075863688265.JavaMail.evans@thyme>\n",
      "Date: Thu, 31 Aug 2000 04:17:00 -0700 (PDT)\n",
      "From: phillip.allen@enron.com\n",
      "To: greg.piper@enron.com\n",
      "Subject: Re: Hello\n",
      "Mime-Version: 1.0\n",
      "Content-Type: text/plain; charset=us-ascii\n",
      "Content-Transfer-Encoding: 7bit\n",
      "X-From: Phillip K Allen\n",
      "X-To: Greg Piper\n",
      "X-cc: \n",
      "X-bcc: \n",
      "X-Folder: \\Phillip_Allen_Dec2000\\Notes Folders\\'sent mail\n",
      "X-Origin: Allen-P\n",
      "X-FileName: pallen.nsf\n",
      "\n",
      "Greg,\n",
      "\n",
      " How about either next Tuesday or Thursday?\n",
      "\n",
      "Phillip\n"
     ]
    }
   ],
   "source": [
    "\"\"\"SAMPLE EMAIL\"\"\"\n",
    "print(df.loc[5]['message'])"
   ]
  },
  {
   "cell_type": "code",
   "execution_count": null,
   "id": "4d501db9",
   "metadata": {},
   "outputs": [
    {
     "data": {
      "text/plain": [
       "[('Message-ID', '<15464986.1075855378456.JavaMail.evans@thyme>'),\n",
       " ('Date', 'Fri, 4 May 2001 13:51:00 -0700 (PDT)'),\n",
       " ('From', 'phillip.allen@enron.com'),\n",
       " ('To', 'john.lavorato@enron.com'),\n",
       " ('Subject', 'Re:'),\n",
       " ('Mime-Version', '1.0'),\n",
       " ('Content-Type', 'text/plain; charset=us-ascii'),\n",
       " ('Content-Transfer-Encoding', '7bit'),\n",
       " ('X-From', 'Phillip K Allen'),\n",
       " ('X-To', 'John J Lavorato <John J Lavorato/ENRON@enronXgate@ENRON>'),\n",
       " ('X-cc', ''),\n",
       " ('X-bcc', ''),\n",
       " ('X-Folder', \"\\\\Phillip_Allen_Jan2002_1\\\\Allen, Phillip K.\\\\'Sent Mail\"),\n",
       " ('X-Origin', 'Allen-P'),\n",
       " ('X-FileName', 'pallen (Non-Privileged).pst')]"
      ]
     },
     "execution_count": 46,
     "metadata": {},
     "output_type": "execute_result"
    }
   ],
   "source": [
    "# transform the email into correct format\n",
    "message = df.loc[1]['message']\n",
    "e = email.message_from_string(message)\n",
    "\n",
    "e.items()\n"
   ]
  },
  {
   "cell_type": "code",
   "execution_count": 49,
   "id": "f3774d52",
   "metadata": {},
   "outputs": [
    {
     "data": {
      "text/plain": [
       "\"Traveling to have a business meeting takes the fun out of the trip.  Especially if you have to prepare a presentation.  I would suggest holding the business plan meetings here then take a trip without any formal business meetings.  I would even try and get some honest opinions on whether a trip is even desired or necessary.\\n\\nAs far as the business meetings, I think it would be more productive to try and stimulate discussions across the different groups about what is working and what is not.  Too often the presenter speaks and the others are quiet just waiting for their turn.   The meetings might be better if held in a round table discussion format.  \\n\\nMy suggestion for where to go is Austin.  Play golf and rent a ski boat and jet ski's.  Flying somewhere takes too much time.\\n\""
      ]
     },
     "execution_count": 49,
     "metadata": {},
     "output_type": "execute_result"
    }
   ],
   "source": [
    "#GETTING INFORMATION \n",
    "e.get_payload() # email body"
   ]
  },
  {
   "cell_type": "code",
   "execution_count": null,
   "id": "24cbf3b1",
   "metadata": {},
   "outputs": [],
   "source": [
    "# now we add those fields into our 'df' dataframe\n",
    "def get_field(field, messages):\n",
    "    column = []\n",
    "    for message in messages:\n",
    "        e = email.message_from_string(message)\n",
    "        column.append(e.get(field))\n",
    "    return column"
   ]
  }
 ],
 "metadata": {
  "kernelspec": {
   "display_name": "Python 3",
   "language": "python",
   "name": "python3"
  },
  "language_info": {
   "codemirror_mode": {
    "name": "ipython",
    "version": 3
   },
   "file_extension": ".py",
   "mimetype": "text/x-python",
   "name": "python",
   "nbconvert_exporter": "python",
   "pygments_lexer": "ipython3",
   "version": "3.10.6"
  }
 },
 "nbformat": 4,
 "nbformat_minor": 5
}
